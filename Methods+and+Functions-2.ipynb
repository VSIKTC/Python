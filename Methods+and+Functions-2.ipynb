{
 "cells": [
  {
   "cell_type": "code",
   "execution_count": 13,
   "metadata": {
    "collapsed": true
   },
   "outputs": [],
   "source": [
    "def vol(radius):\n",
    "    \"\"\"\n",
    "    Function to calculate the volume of a sphere\n",
    "    \"\"\"\n",
    "    volume = (4*3.14*(radius **3))/3\n",
    "    return volume"
   ]
  },
  {
   "cell_type": "code",
   "execution_count": 12,
   "metadata": {},
   "outputs": [
    {
     "data": {
      "text/plain": [
       "523.3333333333334"
      ]
     },
     "execution_count": 12,
     "metadata": {},
     "output_type": "execute_result"
    }
   ],
   "source": [
    "vol(5)"
   ]
  },
  {
   "cell_type": "code",
   "execution_count": 16,
   "metadata": {
    "collapsed": true
   },
   "outputs": [],
   "source": [
    "def range_check(number,low,high):\n",
    "    \"\"\"\n",
    "    This function is to check whether a number belongs in the range\n",
    "    \"\"\"\n",
    "    if number in range(low,high+1):\n",
    "        print(\"%s is in the range\" %str(number))\n",
    "    else:\n",
    "        print (\"%s is not in the range\" %str(number))"
   ]
  },
  {
   "cell_type": "code",
   "execution_count": 17,
   "metadata": {},
   "outputs": [
    {
     "name": "stdout",
     "output_type": "stream",
     "text": [
      "5 is in the range\n"
     ]
    }
   ],
   "source": [
    "range_check(5,1,10)"
   ]
  },
  {
   "cell_type": "code",
   "execution_count": 24,
   "metadata": {
    "collapsed": true
   },
   "outputs": [],
   "source": [
    "def count_upper_and_lower_letters(string):\n",
    "    \"\"\"\n",
    "    Python function that accepts a string and calculate the number of upper case letters and lower case letters.\n",
    "    \"\"\"\n",
    "    dict_case = {\"upper\":0,\"lower\":0}\n",
    "    for word in string:\n",
    "        if word.isupper():\n",
    "            dict_case[\"upper\"]+=1\n",
    "        elif word.islower():\n",
    "            dict_case[\"lower\"]+=1\n",
    "        else:\n",
    "            pass\n",
    "    print (\"Orginal string :\",string)\n",
    "    print (\"Count of words starting with Upper Case:\",dict_case[\"upper\"])\n",
    "\n",
    "    print (\"Count of words starting with Lower Case:\",dict_case[\"lower\"])\n",
    "\n"
   ]
  },
  {
   "cell_type": "code",
   "execution_count": 25,
   "metadata": {},
   "outputs": [
    {
     "name": "stdout",
     "output_type": "stream",
     "text": [
      "Orginal string : Hello, How are you ?\n",
      "Count of words starting with Upper Case: 2\n",
      "Count of words starting with Lower Case: 12\n"
     ]
    }
   ],
   "source": [
    "count_upper_and_lower_letters(\"Hello, How are you ?\")"
   ]
  },
  {
   "cell_type": "code",
   "execution_count": null,
   "metadata": {
    "collapsed": true
   },
   "outputs": [],
   "source": [
    "uniquelist([1,1,1,2,2,2,3,4,5,6,6,6,7,7,8,65,56,56])"
   ]
  },
  {
   "cell_type": "code",
   "execution_count": 4,
   "metadata": {},
   "outputs": [],
   "source": [
    "def unique_list(l):\n",
    "    \"\"\"\n",
    "    Python function that takes a list and returns a new list with unique elements of the first list\n",
    "\n",
    "    \"\"\"\n",
    "    list_unique = []\n",
    "    for i in l:\n",
    "        if i not in list_unique:\n",
    "            l.append(i)\n",
    "    return list_unique"
   ]
  },
  {
   "cell_type": "code",
   "execution_count": null,
   "metadata": {
    "collapsed": true
   },
   "outputs": [],
   "source": [
    "unique_list([1,1,1,1,2,2,3,3,3,3,4,5])"
   ]
  },
  {
   "cell_type": "code",
   "execution_count": 2,
   "metadata": {
    "collapsed": true
   },
   "outputs": [],
   "source": [
    "def multiply_list(l):\n",
    "    total = 1\n",
    "    for x in l:\n",
    "        total *= x\n",
    "    return total"
   ]
  },
  {
   "cell_type": "code",
   "execution_count": 3,
   "metadata": {},
   "outputs": [
    {
     "data": {
      "text/plain": [
       "120"
      ]
     },
     "execution_count": 3,
     "metadata": {},
     "output_type": "execute_result"
    }
   ],
   "source": [
    "multiply_list([2,3,4,5])"
   ]
  },
  {
   "cell_type": "code",
   "execution_count": 1,
   "metadata": {
    "collapsed": true
   },
   "outputs": [],
   "source": [
    "def palindrome(s):\n",
    "    return s == s[::-1]"
   ]
  },
  {
   "cell_type": "code",
   "execution_count": 3,
   "metadata": {},
   "outputs": [
    {
     "data": {
      "text/plain": [
       "False"
      ]
     },
     "execution_count": 3,
     "metadata": {},
     "output_type": "execute_result"
    }
   ],
   "source": [
    "palindrome('Malayalam')"
   ]
  },
  {
   "cell_type": "code",
   "execution_count": 4,
   "metadata": {},
   "outputs": [
    {
     "data": {
      "text/plain": [
       "True"
      ]
     },
     "execution_count": 4,
     "metadata": {},
     "output_type": "execute_result"
    }
   ],
   "source": [
    "palindrome('MalayalaM')"
   ]
  },
  {
   "cell_type": "code",
   "execution_count": null,
   "metadata": {
    "collapsed": true
   },
   "outputs": [],
   "source": []
  }
 ],
 "metadata": {
  "kernelspec": {
   "display_name": "Python 3",
   "language": "python",
   "name": "python3"
  },
  "language_info": {
   "codemirror_mode": {
    "name": "ipython",
    "version": 3
   },
   "file_extension": ".py",
   "mimetype": "text/x-python",
   "name": "python",
   "nbconvert_exporter": "python",
   "pygments_lexer": "ipython3",
   "version": "3.6.3"
  }
 },
 "nbformat": 4,
 "nbformat_minor": 2
}
